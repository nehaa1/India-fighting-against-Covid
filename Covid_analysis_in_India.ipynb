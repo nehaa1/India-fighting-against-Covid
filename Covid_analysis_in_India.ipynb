{
 "cells": [
  {
   "cell_type": "markdown",
   "metadata": {},
   "source": [
    "## <a> Analysis of COVID-19 in India ##"
   ]
  },
  {
   "cell_type": "markdown",
   "metadata": {},
   "source": [
    "### Downloding and Installing Prerequisite ###\n",
    "\n",
    "* pip install pycountry_convert \n",
    "* pip install GoogleMaps"
   ]
  },
  {
   "cell_type": "code",
   "execution_count": null,
   "metadata": {
    "_kg_hide-input": true,
    "_kg_hide-output": true,
    "execution": {
     "iopub.execute_input": "2020-09-10T13:05:49.260556Z",
     "iopub.status.busy": "2020-09-10T13:05:49.259857Z",
     "iopub.status.idle": "2020-09-10T13:06:00.068069Z",
     "shell.execute_reply": "2020-09-10T13:06:00.069447Z"
    },
    "papermill": {
     "duration": 10.825367,
     "end_time": "2020-09-10T13:06:00.069777",
     "exception": false,
     "start_time": "2020-09-10T13:05:49.244410",
     "status": "completed"
    },
    "tags": []
   },
   "outputs": [],
   "source": [
    "!pip install pycountry_convert"
   ]
  },
  {
   "cell_type": "code",
   "execution_count": null,
   "metadata": {
    "_kg_hide-input": true,
    "_kg_hide-output": true,
    "execution": {
     "iopub.execute_input": "2020-09-10T13:06:00.115536Z",
     "iopub.status.busy": "2020-09-10T13:06:00.114502Z",
     "iopub.status.idle": "2020-09-10T13:06:10.012973Z",
     "shell.execute_reply": "2020-09-10T13:06:10.012043Z"
    },
    "papermill": {
     "duration": 9.926693,
     "end_time": "2020-09-10T13:06:10.013169",
     "exception": false,
     "start_time": "2020-09-10T13:06:00.086476",
     "status": "completed"
    },
    "tags": []
   },
   "outputs": [],
   "source": [
    "!pip install GoogleMaps"
   ]
  },
  {
   "cell_type": "markdown",
   "metadata": {},
   "source": [
    "### Imports and Datasets ### \n",
    "Reading the data and neccesary libraries.\n",
    "* Pandas - for dataset handeling\n",
    "* Numpy - Support for Pandas and calculations\n",
    "* Matplotlib - for visualization (Platting graphas)\n",
    "* pycountry_convert - Library for getting continent (name) to from their country names\n",
    "* plotly - for interative plots"
   ]
  },
  {
   "cell_type": "code",
   "execution_count": null,
   "metadata": {
    "_kg_hide-input": true,
    "execution": {
     "iopub.execute_input": "2020-09-10T13:06:10.051337Z",
     "iopub.status.busy": "2020-09-10T13:06:10.050334Z",
     "iopub.status.idle": "2020-09-10T13:06:12.241818Z",
     "shell.execute_reply": "2020-09-10T13:06:12.240644Z"
    },
    "papermill": {
     "duration": 2.214233,
     "end_time": "2020-09-10T13:06:12.241984",
     "exception": false,
     "start_time": "2020-09-10T13:06:10.027751",
     "status": "completed"
    },
    "tags": []
   },
   "outputs": [],
   "source": [
    "import plotly\n",
    "import plotly_express as px\n",
    "import plotly.graph_objects as go\n",
    "from plotly.subplots import make_subplots\n",
    "import numpy as np\n",
    "import pandas as pd\n",
    "import warnings\n",
    "warnings.filterwarnings(\"ignore\")\n",
    "import googlemaps\n",
    "import re \n",
    "import pycountry\n",
    "import pycountry_convert as pc\n",
    "import requests\n",
    "import seaborn as sns\n",
    "import matplotlib.pyplot as plt\n",
    "plt.style.use('fivethirtyeight')"
   ]
  },
  {
   "cell_type": "markdown",
   "metadata": {},
   "source": [
    "This project depicts the fight of India against Covid-19. \n",
    "The datasets are taken from various sources made available by Government of India as as worldwide data.\n",
    "The number of new cases are increasing day by day all around the world. This dataset has updated information from the states and union territories of India at daily level.\n",
    "\n",
    "Going stepwise first perform countrywise analysis to get the current ranking of India across the globe. Studying statewise to get bigger picture I have plotted the number of cases reported daily in each state, calculated doubling rate, effect of population density etc. Also analyse the healthcare facility in each state and over all India.\n",
    "\n",
    "To getter better understanding of the outcomes we will answer following questions one by one.\n",
    "1. Where does India stand at present?\n",
    "2. What is the effect of doubling rate?\n",
    "3. Is healthcare in India good enough to handle this situation on large scale?\n",
    "4. Does population density has anything to do with spread of this disease?"
   ]
  },
  {
   "cell_type": "markdown",
   "metadata": {
    "papermill": {
     "duration": 0.014011,
     "end_time": "2020-09-10T13:06:12.270377",
     "exception": false,
     "start_time": "2020-09-10T13:06:12.256366",
     "status": "completed"
    },
    "tags": []
   },
   "source": [
    "### 1. Where does India stand at present?\n",
    "In this, we will look at the worldwide data to predict the ranking of India across the globe as well as across Asia."
   ]
  },
  {
   "cell_type": "code",
   "execution_count": null,
   "metadata": {
    "_kg_hide-input": true,
    "execution": {
     "iopub.execute_input": "2020-09-10T13:06:12.321362Z",
     "iopub.status.busy": "2020-09-10T13:06:12.313337Z",
     "iopub.status.idle": "2020-09-10T13:06:12.325068Z",
     "shell.execute_reply": "2020-09-10T13:06:12.324454Z"
    },
    "papermill": {
     "duration": 0.040294,
     "end_time": "2020-09-10T13:06:12.325197",
     "exception": false,
     "start_time": "2020-09-10T13:06:12.284903",
     "status": "completed"
    },
    "tags": []
   },
   "outputs": [],
   "source": [
    "# Defining Function for getting continent and code country.\n",
    "\n",
    "class country_utils():\n",
    "    def __init__(self):\n",
    "        self.d = {}\n",
    "    \n",
    "    def get_dic(self):\n",
    "        return self.d\n",
    "    \n",
    "    def get_country_details(self,country):\n",
    "        \"\"\"Returns country code(alpha_3) and continent\"\"\"\n",
    "        try:\n",
    "            country_obj = pycountry.countries.get(name=country)\n",
    "            if country_obj is None:\n",
    "                c = pycountry.countries.search_fuzzy(country)\n",
    "                country_obj = c[0]\n",
    "            continent_code = pc.country_alpha2_to_continent_code(country_obj.alpha_2)\n",
    "            continent = pc.convert_continent_code_to_continent_name(continent_code)\n",
    "            return country_obj.alpha_3, continent\n",
    "        except:\n",
    "            if 'Congo' in country:\n",
    "                country = 'Congo'\n",
    "            if country == 'Mainland China':\n",
    "                country = 'China'\n",
    "            elif country == 'Diamond Princess' or country == 'Laos' or country == 'MS Zaandam'\\\n",
    "            or country == 'Holy See' or country == 'Timor-Leste':\n",
    "                return country, country\n",
    "            elif country == 'Korea, South' or country == 'South Korea':\n",
    "                country = 'Korea, Republic of'\n",
    "            elif country == 'Taiwan*':\n",
    "                country = 'Taiwan'\n",
    "            elif country == 'Burma':\n",
    "                country = 'Myanmar'\n",
    "            elif country == 'West Bank and Gaza':\n",
    "                country = 'Gaza'\n",
    "            else:\n",
    "                return country, country\n",
    "            country_obj = pycountry.countries.search_fuzzy(country)\n",
    "            continent_code = pc.country_alpha2_to_continent_code(country_obj[0].alpha_2)\n",
    "            continent = pc.convert_continent_code_to_continent_name(continent_code)\n",
    "            return country_obj[0].alpha_3, continent\n",
    "    \n",
    "    def get_iso3(self, country):\n",
    "        '''Returns country code'''\n",
    "        return self.d[country]['code']\n",
    "    \n",
    "    def get_continent(self,country):\n",
    "        '''Returns continent'''\n",
    "        return self.d[country]['continent']\n",
    "    \n",
    "    def add_values(self,country):\n",
    "        self.d[country] = {}\n",
    "        self.d[country]['code'],self.d[country]['continent'] = self.get_country_details(country)\n",
    "    \n",
    "    def fetch_iso3(self,country):\n",
    "        if country in self.d.keys():\n",
    "            return self.get_iso3(country)\n",
    "        else:\n",
    "            self.add_values(country)\n",
    "            return self.get_iso3(country)\n",
    "        \n",
    "    def fetch_continent(self,country):\n",
    "        if country in self.d.keys():\n",
    "            return self.get_continent(country)\n",
    "        else:\n",
    "            self.add_values(country)\n",
    "            return self.get_continent(country)"
   ]
  },
  {
   "cell_type": "code",
   "execution_count": null,
   "metadata": {
    "_kg_hide-input": true,
    "execution": {
     "iopub.execute_input": "2020-09-10T13:06:12.371734Z",
     "iopub.status.busy": "2020-09-10T13:06:12.371059Z",
     "iopub.status.idle": "2020-09-10T13:06:12.699916Z",
     "shell.execute_reply": "2020-09-10T13:06:12.699295Z"
    },
    "papermill": {
     "duration": 0.360464,
     "end_time": "2020-09-10T13:06:12.700113",
     "exception": false,
     "start_time": "2020-09-10T13:06:12.339649",
     "status": "completed"
    },
    "tags": []
   },
   "outputs": [],
   "source": [
    "# Importing the Covid-19 data taken on daily basis level worldwide\n",
    "\n",
    "df_world = pd.read_csv('dataset/covid_19_data.csv')\n",
    "df_world.ObservationDate = pd.to_datetime(df_world.ObservationDate, format='%m/%d/%Y')\n",
    "max_date = df_world.ObservationDate.max()\n",
    "df_world = df_world[df_world.ObservationDate==max_date]\n",
    "\n",
    "# Changing the name of column for better practice\n",
    "df_world.rename(columns={'Country/Region':'Country'},inplace=True)\n",
    "\n",
    "# Creating copy of Covid-19 datset file\n",
    "df_cont = df_world.copy() \n",
    "\n",
    "# Seggregating the data according to confirmed, deaths and recovered cases in India\n",
    "df_world = df_world.groupby(['Country'],as_index=False)['Confirmed','Deaths','Recovered'].sum()\n",
    "df_world['rank_c'] = df_world['Confirmed'].rank(ascending=False)\n",
    "df_world['rank_d'] = df_world['Deaths'].rank(ascending=False)\n",
    "df_world['rank_r'] = df_world['Recovered'].rank(ascending=False)\n",
    "world_stat = (df_world.loc[df_world['Country']=='India'])\n",
    "world_stat.set_index('Country',inplace=True)\n",
    "world_stat = world_stat.astype(int)"
   ]
  },
  {
   "cell_type": "code",
   "execution_count": null,
   "metadata": {
    "_kg_hide-input": true,
    "execution": {
     "iopub.execute_input": "2020-09-10T13:06:12.740237Z",
     "iopub.status.busy": "2020-09-10T13:06:12.739083Z",
     "iopub.status.idle": "2020-09-10T13:06:15.585709Z",
     "shell.execute_reply": "2020-09-10T13:06:15.585006Z"
    },
    "papermill": {
     "duration": 2.871247,
     "end_time": "2020-09-10T13:06:15.585834",
     "exception": false,
     "start_time": "2020-09-10T13:06:12.714587",
     "status": "completed"
    },
    "tags": []
   },
   "outputs": [],
   "source": [
    "# Function to get ranking of India in the world and Asia according to cases noted on daily basis\n",
    "obj = country_utils()\n",
    "df_cont['continent'] = df_cont.apply(lambda x: obj.fetch_continent(x['Country']), axis=1)\n",
    "df_cont = df_cont.groupby(['continent','Country'],as_index=False)['Confirmed','Deaths','Recovered'].sum()\n",
    "df_cont = df_cont[df_cont['continent']=='Asia']\n",
    "\n",
    "# Ranking is calculated for confirmed cases, deaths and recoveries\n",
    "df_cont['rank_c'] = df_cont['Confirmed'].rank(ascending=False)\n",
    "df_cont['rank_d'] = df_cont['Deaths'].rank(ascending=False)\n",
    "df_cont['rank_r'] = df_cont['Recovered'].rank(ascending=False)\n",
    "cont_stat = (df_cont.loc[df_cont['Country']=='India'])\n",
    "cont_stat.set_index('Country',inplace=True)\n",
    "cont_stat.drop('continent',inplace=True,axis=1)\n",
    "cont_stat = cont_stat.astype(int)"
   ]
  },
  {
   "cell_type": "markdown",
   "metadata": {
    "papermill": {
     "duration": 0.014133,
     "end_time": "2020-09-10T13:06:15.614629",
     "exception": false,
     "start_time": "2020-09-10T13:06:15.600496",
     "status": "completed"
    },
    "tags": []
   },
   "source": [
    "The table below shows the current figures and ranking for India in the World and in Asia."
   ]
  },
  {
   "cell_type": "code",
   "execution_count": null,
   "metadata": {
    "_kg_hide-input": true,
    "execution": {
     "iopub.execute_input": "2020-09-10T13:06:15.655645Z",
     "iopub.status.busy": "2020-09-10T13:06:15.654601Z",
     "iopub.status.idle": "2020-09-10T13:06:15.658049Z",
     "shell.execute_reply": "2020-09-10T13:06:15.657421Z"
    },
    "papermill": {
     "duration": 0.028723,
     "end_time": "2020-09-10T13:06:15.658165",
     "exception": false,
     "start_time": "2020-09-10T13:06:15.629442",
     "status": "completed"
    },
    "tags": []
   },
   "outputs": [],
   "source": [
    "# Table to indicate ranking of India as of the date of analysis\n",
    "\n",
    "def make_538(fig,title=None,xtext=None,ytext=None,hovermode='x',width=700,height=400,margin=dict(t=50,b=10,l=10,r=10),\n",
    "             legend=None,annotations=None):\n",
    "    fig.update_layout(\n",
    "        template='simple_white',\n",
    "        title=title,\n",
    "        hovermode=hovermode,\n",
    "        xaxis=dict(title=xtext,showline=False,showgrid=True,ticks='',gridcolor=colors['grid']),\n",
    "        yaxis=dict(title=ytext,showline=False,showgrid=True,ticks='',gridcolor=colors['grid']),\n",
    "        paper_bgcolor=colors['bg'],\n",
    "        plot_bgcolor=colors['bg'],\n",
    "        width=width,\n",
    "        height=height,\n",
    "        margin=margin,\n",
    "        legend=legend,\n",
    "        annotations=annotations\n",
    "    )\n",
    "    return fig\n",
    "\n",
    "# Color pallette for the table\n",
    "colors = dict(bg='#f0f0f0',\n",
    "              grid='#d7d7d7',\n",
    "              cases='#30a2da',\n",
    "              deaths='#fc4f30',\n",
    "              recoveries='#6d904f',\n",
    "              shape='#8b8b8b')\n",
    "\n",
    "# Importing function from library for better visualization\n",
    "import plotly.graph_objects as go\n",
    "\n",
    "values = [['Figures','World Ranking','Asia Ranking'],\n",
    "          [world_stat.Confirmed['India'],world_stat.rank_c['India'],cont_stat.rank_c['India']],\n",
    "          [world_stat.Deaths['India'],world_stat.rank_d['India'],cont_stat.rank_d['India']],\n",
    "          [world_stat.Recovered['India'],world_stat.rank_r['India'],cont_stat.rank_r['India']]]\n",
    "\n",
    "# Defining cell parameters in the table\n",
    "fig = go.Figure(data=[go.Table(\n",
    "  columnorder = [1,2,3,4],\n",
    "  columnwidth = [300,300],\n",
    "  header = dict(\n",
    "    values = [['<b>STATISTICS</b><br>as of '+str(max_date.day)+' '+ max_date.month_name()],\n",
    "              ['<b>CASES</b>'],['<b>DEATHS</b>'],['<b>RECOVERIES</b>']],\n",
    "    line_color=colors['grid'],\n",
    "    fill_color=colors['cases'],\n",
    "    align=['left','center'],\n",
    "    font=dict(color='white', size=13),\n",
    "    height=40\n",
    "  ),\n",
    "  cells=dict(\n",
    "    values=values,\n",
    "    line_color=colors['grid'],\n",
    "    fill=dict(color=[colors['shape'], 'white']),\n",
    "    align=['left', 'center'],\n",
    "    font_size=13,\n",
    "    height=35)\n",
    "    )\n",
    "])\n",
    "fig = make_538(fig,height=250,title=dict(text='<b>Report from Ground Zero</b>',font=dict(family='Helvetica')))\n",
    "fig.show()"
   ]
  },
  {
   "cell_type": "markdown",
   "metadata": {},
   "source": [
    "Wroking on the datasets thats contains the information about Covid-19 in India to study the effects of it in India and its states."
   ]
  },
  {
   "cell_type": "code",
   "execution_count": null,
   "metadata": {
    "_cell_guid": "79c7e3d0-c299-4dcb-8224-4455121ee9b0",
    "_kg_hide-input": true,
    "_uuid": "d629ff2d2480ee46fbb7e2d37f6b5fab8052498a",
    "execution": {
     "iopub.execute_input": "2020-09-10T13:06:16.962406Z",
     "iopub.status.busy": "2020-09-10T13:06:16.954601Z",
     "iopub.status.idle": "2020-09-10T13:06:17.244958Z",
     "shell.execute_reply": "2020-09-10T13:06:17.244281Z"
    },
    "papermill": {
     "duration": 0.314078,
     "end_time": "2020-09-10T13:06:17.245087",
     "exception": false,
     "start_time": "2020-09-10T13:06:16.931009",
     "status": "completed"
    },
    "tags": []
   },
   "outputs": [],
   "source": [
    "# Importing the Covid-19 data taken on daily basis level in India\n",
    "\n",
    "df = pd.read_csv('dataset/covid_19_india.csv')\n",
    "df['Date'] = pd.to_datetime(df['Date'],format='%d/%m/%y')\n",
    "df['Date'] = df['Date'].dt.date\n",
    "\n",
    "# Changing the names of column as per convenience\n",
    "df.rename(columns={'Date':'date','State/UnionTerritory':'state','ConfirmedIndianNational':'confirmed_in',\\\n",
    "                   'ConfirmedForeignNational':'confirmed_fr'}, inplace=True)\n",
    "\n",
    "# Dropping unnecessary columns i.e. Sno, Time\n",
    "df.drop(['Sno','Time'],axis=1,inplace=True)\n",
    "\n",
    "df['state'] = df.apply(lambda x: 'Nagaland' \n",
    "                       if x['state']=='Nagaland#' else 'Jharkhand' if x['state']=='Jharkhand#' else x['state'], axis=1)\n",
    "df = df[df['state']!='Unassigned']\n",
    "df.reset_index(inplace=True)"
   ]
  },
  {
   "cell_type": "code",
   "execution_count": null,
   "metadata": {
    "_kg_hide-input": true,
    "execution": {
     "iopub.execute_input": "2020-09-10T13:06:17.831222Z",
     "iopub.status.busy": "2020-09-10T13:06:17.830518Z",
     "iopub.status.idle": "2020-09-10T13:06:17.833755Z",
     "shell.execute_reply": "2020-09-10T13:06:17.833266Z"
    },
    "papermill": {
     "duration": 0.036922,
     "end_time": "2020-09-10T13:06:17.833939",
     "exception": false,
     "start_time": "2020-09-10T13:06:17.797017",
     "status": "completed"
    },
    "tags": []
   },
   "outputs": [],
   "source": [
    "# Defining a function to plot confirmed cases, deaths and recoveries on a daily basis\n",
    "\n",
    "def add_daily_measures(df):\n",
    "    has_state=False\n",
    "    if 'state' in df.columns:\n",
    "        states = []\n",
    "        has_state = True\n",
    "    df.loc[0,'Daily Cases'] = df.loc[0,'Confirmed']\n",
    "    df.loc[0,'Daily Deaths'] = df.loc[0,'Deaths']\n",
    "    df.loc[0,'Daily Cured'] = df.loc[0,'Cured']\n",
    "    for i in range(1,len(df)):\n",
    "        if has_state:\n",
    "            if df.loc[i,'state'] in states:\n",
    "                df.loc[i,'Daily Cases'] = df.loc[i,'Confirmed'] - df.loc[i-1,'Confirmed']\n",
    "                df.loc[i,'Daily Deaths'] = df.loc[i,'Deaths'] - df.loc[i-1,'Deaths'] \n",
    "                df.loc[i,'Daily Cured'] = df.loc[i,'Cured'] - df.loc[i-1,'Cured']\n",
    "            else:\n",
    "                states.append(df.loc[i,'state'])\n",
    "                df.loc[i,'Daily Cases'] = df.loc[i,'Confirmed']\n",
    "                df.loc[i,'Daily Deaths'] = df.loc[i,'Deaths']\n",
    "                df.loc[i,'Daily Cured'] = df.loc[i,'Cured']\n",
    "        else:\n",
    "            df.loc[i,'Daily Cases'] = df.loc[i,'Confirmed'] - df.loc[i-1,'Confirmed']\n",
    "            df.loc[i,'Daily Deaths'] = df.loc[i,'Deaths'] - df.loc[i-1,'Deaths'] \n",
    "            df.loc[i,'Daily Cured'] = df.loc[i,'Cured'] - df.loc[i-1,'Cured']\n",
    "            \n",
    "    '''Making the first row as 0 because we don't know the previous value'''\n",
    "    \n",
    "    df.loc[0,'Daily Cases'] = 0\n",
    "    df.loc[0,'Daily Deaths'] = 0\n",
    "    df.loc[0,'Daily Cured'] = 0\n",
    "    return df"
   ]
  },
  {
   "cell_type": "code",
   "execution_count": null,
   "metadata": {
    "_kg_hide-input": true,
    "execution": {
     "iopub.execute_input": "2020-09-10T13:06:17.902491Z",
     "iopub.status.busy": "2020-09-10T13:06:17.901451Z",
     "iopub.status.idle": "2020-09-10T13:06:17.917187Z",
     "shell.execute_reply": "2020-09-10T13:06:17.917680Z"
    },
    "papermill": {
     "duration": 0.038303,
     "end_time": "2020-09-10T13:06:17.917839",
     "exception": false,
     "start_time": "2020-09-10T13:06:17.879536",
     "status": "completed"
    },
    "tags": []
   },
   "outputs": [],
   "source": [
    "df.loc[1428,'state'] = 'Madhya Pradesh'\n",
    "df.loc[1428,'Deaths'] = '119'\n",
    "df.fillna(0,inplace=True)\n",
    "df.loc[df.Deaths=='0#','Deaths'] = 0\n",
    "df.Deaths = df.Deaths.astype(np.int16)"
   ]
  },
  {
   "cell_type": "markdown",
   "metadata": {
    "papermill": {
     "duration": 0.014888,
     "end_time": "2020-09-10T13:06:17.864385",
     "exception": false,
     "start_time": "2020-09-10T13:06:17.849497",
     "status": "completed"
    },
    "tags": []
   },
   "source": [
    "The plot below shows the total cases, deaths and recoveries reported on a daily basis. The worrying point is that even after almost nation-wide lockdowns the case are increasing."
   ]
  },
  {
   "cell_type": "code",
   "execution_count": null,
   "metadata": {
    "_kg_hide-input": true,
    "execution": {
     "iopub.execute_input": "2020-09-10T13:06:17.993252Z",
     "iopub.status.busy": "2020-09-10T13:06:17.992185Z",
     "iopub.status.idle": "2020-09-10T13:06:18.359410Z",
     "shell.execute_reply": "2020-09-10T13:06:18.359975Z"
    },
    "papermill": {
     "duration": 0.386143,
     "end_time": "2020-09-10T13:06:18.360122",
     "exception": false,
     "start_time": "2020-09-10T13:06:17.973979",
     "status": "completed"
    },
    "tags": []
   },
   "outputs": [],
   "source": [
    "# Important dates showing the lockdwon phases and unlock phases  \n",
    "imp_dates = [dict(date='2020-03-23',event=\"Lockdown Phase 1<br><b>23<sup>rd</sup> March</b>\"),\n",
    "             dict(date='2020-04-15',event=\"Lockdown Phase 2<br><b>15<sup>th</sup> April</b>\"),\n",
    "             dict(date='2020-05-04',event=\"Lockdown Phase 3<br><b>4<sup>th</sup> May</b>\"),\n",
    "             dict(date='2020-05-18',event=\"Lockdown Phase 4<br><b>18<sup>th</sup> May</b>\"),\n",
    "             dict(date='2020-06-01',event=\"Unlock 1.0<br><b>1<sup>st</sup> June</b>\"),\n",
    "             dict(date='2020-07-01',event=\"Unlock 2.0<br><b>1<sup>st</sup> July</b>\"),\n",
    "             dict(date='2020-08-01',event=\"Unlock 3.0<br><b>1<sup>st</sup> August</b>\")]\n",
    "\n",
    "# Plotting the cases recovered, confirmed and deaths in India \n",
    "df_ind = df.copy()\n",
    "df_ind = df_ind.groupby('date',as_index=False)['Cured','Deaths','Confirmed'].sum()\n",
    "df_ind = add_daily_measures(df_ind)\n",
    "\n",
    "fig = go.Figure(data=[\n",
    "    go.Bar(name='Deaths', x=df_ind['date'], y=df_ind['Daily Deaths'],marker_color='crimson',marker_line_color='black'),\n",
    "    go.Bar(name='Recoveries', x=df_ind['date'], y=df_ind['Daily Cured'],marker_color='limegreen',marker_line_color='black'),\n",
    "    go.Bar(name='Cases', x=df_ind['date'], y=df_ind['Daily Cases'],marker_color='royalblue',marker_line_color='black'),\n",
    "])\n",
    "\n",
    "annotations = []\n",
    "\n",
    "# Including the above mentioned important dates in the plot below\n",
    "for date in imp_dates:\n",
    "    fig.add_shape(type='line',xref='x',yref='y',layer='below',\n",
    "                  x0=date['date'] ,y0=0,x1=date['date'],y1=140000,\n",
    "                  line=dict(dash='dot',color=colors['shape'],width=3))\n",
    "    \n",
    "    annotations.append(dict(x=date['date'], y=120000, xref=\"x\", yref=\"y\",textangle=-45, \n",
    "                            text=date['event'], font=dict(size=10), showarrow=False))\n",
    "    \n",
    "\n",
    "legend=dict(orientation='h',x=0.5,y=1.1,bgcolor=colors['bg'])\n",
    "fig.update_layout(template=\"simple_white\",barmode='relative', title='Total Cases, Deaths & Recoveries',\n",
    "                  legend= legend, annotations=annotations)\n",
    "fig.show()"
   ]
  },
  {
   "cell_type": "code",
   "execution_count": null,
   "metadata": {},
   "outputs": [],
   "source": [
    "%%HTML\n",
    "<div class=\"flourish-embed flourish-bar-chart-race\" data-src=\"visualisation/2061549\" data-url=\"https://flo.uri.sh/visualisation/2061549/embed\" aria-label=\"\"><script src=\"https://public.flourish.studio/resources/embed.js\"></script></div>"
   ]
  },
  {
   "cell_type": "code",
   "execution_count": null,
   "metadata": {
    "_kg_hide-input": true,
    "execution": {
     "iopub.execute_input": "2020-09-10T13:06:18.476215Z",
     "iopub.status.busy": "2020-09-10T13:06:18.475527Z",
     "iopub.status.idle": "2020-09-10T13:06:18.765639Z",
     "shell.execute_reply": "2020-09-10T13:06:18.764855Z"
    },
    "papermill": {
     "duration": 0.313045,
     "end_time": "2020-09-10T13:06:18.765755",
     "exception": false,
     "start_time": "2020-09-10T13:06:18.452710",
     "status": "completed"
    },
    "tags": []
   },
   "outputs": [],
   "source": [
    "# Code to get the dataset for Bar chart race\n",
    "df_br = df.copy()\n",
    "df_br = df_br.pivot(index='state',columns='date',values='Confirmed')\n",
    "df_br.fillna(0,inplace=True)\n",
    "df_br.reset_index(level=0, inplace=True)\n",
    "df_br.columns.name = ''\n",
    "df_br.to_csv(r'confirmed_cases_india.csv',index=False)"
   ]
  },
  {
   "cell_type": "markdown",
   "metadata": {
    "papermill": {
     "duration": 0.015716,
     "end_time": "2020-09-10T13:06:18.797796",
     "exception": false,
     "start_time": "2020-09-10T13:06:18.782080",
     "status": "completed"
    },
    "tags": []
   },
   "source": [
    "###  2. What is the effect of doubling rate?\n",
    "The doubling time is time taken for a population to double in size. The doubling rate is calculated using doubling time."
   ]
  },
  {
   "cell_type": "code",
   "execution_count": null,
   "metadata": {
    "_kg_hide-input": true,
    "execution": {
     "iopub.execute_input": "2020-09-10T13:06:18.847138Z",
     "iopub.status.busy": "2020-09-10T13:06:18.841222Z",
     "iopub.status.idle": "2020-09-10T13:06:18.908330Z",
     "shell.execute_reply": "2020-09-10T13:06:18.908889Z"
    },
    "papermill": {
     "duration": 0.095257,
     "end_time": "2020-09-10T13:06:18.909050",
     "exception": false,
     "start_time": "2020-09-10T13:06:18.813793",
     "status": "completed"
    },
    "tags": []
   },
   "outputs": [],
   "source": [
    "# Function to study the doubling rate in India over a period of time\n",
    "\n",
    "def doubling_rate_india(x):\n",
    "    '''Equation to calculate doubling rate'''\n",
    "    dr = np.log(2)/np.log(x['Confirmed']/x['Confirmed_prev'])\n",
    "    return np.round(dr,2)\n",
    "\n",
    "df_ind['Confirmed_prev'] = df_ind['Confirmed'].shift(1)\n",
    "df_ind['Doubling rate'] = df_ind.apply(lambda x: doubling_rate_india(x),axis=1)\n",
    "\n",
    "# Plot to show doubling rate variation over time\n",
    "fig = go.Figure()\n",
    "fig.add_trace(go.Scatter(x=df_ind['date'],y=df_ind['Doubling rate']))\n",
    "fig.update_layout(template='presentation',title=\"India's Doubling rate variation over Time\")\n",
    "fig.show()"
   ]
  },
  {
   "cell_type": "markdown",
   "metadata": {},
   "source": [
    "Following table shows the doubling rates of COVID-19 for each state and the number of confirmed cases with Maharashtra at top."
   ]
  },
  {
   "cell_type": "code",
   "execution_count": null,
   "metadata": {
    "_kg_hide-input": true,
    "execution": {
     "iopub.execute_input": "2020-09-10T13:06:18.962687Z",
     "iopub.status.busy": "2020-09-10T13:06:18.961644Z",
     "iopub.status.idle": "2020-09-10T13:06:19.417567Z",
     "shell.execute_reply": "2020-09-10T13:06:19.418666Z"
    },
    "papermill": {
     "duration": 0.492774,
     "end_time": "2020-09-10T13:06:19.418840",
     "exception": false,
     "start_time": "2020-09-10T13:06:18.926066",
     "status": "completed"
    },
    "tags": []
   },
   "outputs": [],
   "source": [
    "# Calculating doubling rate for each state \n",
    "\n",
    "doubling_rate = 0\n",
    "state = df.state.unique().tolist()[0]\n",
    "def calc_doubling_rate(x):\n",
    "    global growth_rate\n",
    "    global state\n",
    "    \n",
    "    '''Calculating doubling rate considering each state'''\n",
    "    \n",
    "    if x['state']!=state:\n",
    "        doubling_rate=0\n",
    "        state = x['state']\n",
    "    try:\n",
    "        dr = np.log(2)/np.log(x['Confirmed']/x['Confirmed_prev'])\n",
    "    except ZeroDivisionError:\n",
    "        dr = 0\n",
    "    return np.round(dr,2)\n",
    "\n",
    "df_dr = df.copy()\n",
    "df_dr.sort_values(['state','date'],inplace=True)\n",
    "df_dr.reset_index(drop=True,inplace=True)\n",
    "df_dr['Confirmed_prev'] = df_dr.groupby('state')['Confirmed'].transform(lambda x: x.shift(1))\n",
    "df_dr['Doubling rate'] = df_dr.apply(lambda x: calc_doubling_rate(x),axis=1)\n",
    "df_curr_dr = df_dr[df_dr['date']==df_dr.date.max()]\n",
    "\n",
    "'''Sorting states according to confirmed cases'''\n",
    "df_curr_dr.sort_values('Confirmed',ascending=False,inplace=True) \n",
    "df_curr_dr=df_curr_dr[['state','Confirmed','Doubling rate']]\n",
    "df_curr_dr=df_curr_dr.nlargest(15,'Confirmed')\n",
    "df_curr_dr.reset_index(drop=True,inplace=True)\n",
    "\n",
    "# Set CSS properties for th elements in dataframe\n",
    "th_props = [\n",
    "  ('font-size', '12px'),\n",
    "  ('text-align', 'center'),\n",
    "  ('font-weight', 'bold'),\n",
    "  ('color', '#6d6d6d'),\n",
    "  ('background-color', '#f7f7f9')\n",
    "  ]\n",
    "\n",
    "# Set CSS properties for td elements in dataframe\n",
    "td_props = [\n",
    "  ('font-size', '12px')\n",
    "  ]\n",
    "\n",
    "# Set table styles\n",
    "styles = [\n",
    "  dict(selector=\"th\", props=th_props),\n",
    "  dict(selector=\"td\", props=td_props)\n",
    "  ]\n",
    "\n",
    "(df_curr_dr.style\n",
    " .background_gradient(cmap='Reds_r',subset='Doubling rate')\n",
    " .background_gradient(cmap='Blues',subset='Confirmed')\n",
    " .set_caption('<b>Doubling Rates of 15 Indian States with most cases')\n",
    " .set_table_styles(styles))"
   ]
  },
  {
   "cell_type": "code",
   "execution_count": null,
   "metadata": {},
   "outputs": [],
   "source": [
    "# Showing total cases per state\n",
    "df_map = df.copy()\n",
    "def change_state_name(state):\n",
    "    '''Changing the state names as per latest terminology given''' \n",
    "    if state == 'Odisha':\n",
    "        return 'Orissa'\n",
    "    elif state == 'Telengana':\n",
    "        return 'Telangana'\n",
    "    elif state == 'Andaman and Nicobar Islands':\n",
    "        return 'Andaman and Nicobar'\n",
    "    return state\n",
    "r = requests.get(url='https://raw.githubusercontent.com/geohacker/india/master/state/india_telengana.geojson')\n",
    "geojson = r.json()\n",
    "\n",
    "df_map['state'] = df_map.apply(lambda x: change_state_name(x['state']), axis=1)\n",
    "last_date = df_map.date.max()\n",
    "df_map = df_map[df_map['date']==last_date]\n",
    "\n",
    "fig = px.choropleth_mapbox(df_map, geojson=geojson, color=\"Confirmed\",\n",
    "                    locations=\"state\", featureidkey=\"properties.NAME_1\",\n",
    "                    hover_name='state',\n",
    "                    hover_data=['Cured','Deaths'],\n",
    "                    center={\"lat\": 20.5937, \"lon\": 78.9629},\n",
    "                    mapbox_style=\"carto-positron\",\n",
    "                    zoom=2.75,\n",
    "                    color_continuous_scale=px.colors.qualitative.Vivid,\n",
    "                    title='Total Cases per State'\n",
    "                   )\n",
    "fig.update_geos(fitbounds=\"locations\", visible=True)\n",
    "fig.update_geos(projection_type=\"orthographic\")\n",
    "fig.show()"
   ]
  },
  {
   "cell_type": "code",
   "execution_count": null,
   "metadata": {},
   "outputs": [],
   "source": [
    "# Dataset showcasing individual details in each district\n",
    "\n",
    "df_ind_det = pd.read_csv('dataset/IndividualDetails.csv')\n",
    "\n",
    "#Importing district data \n",
    "r = requests.get(url='https://raw.githubusercontent.com/geohacker/india/master/district/india_district.geojson')\n",
    "geojson = r.json()\n",
    "df_dist = df_ind_det.groupby('detected_district',as_index=False)['id'].count()\n",
    "\n",
    "# Renaming the colomns\n",
    "df_dist.rename(columns={'detected_district':'District','id':'Cases Reported'},inplace=True)\n",
    "\n",
    "# Plotting the total cases per district\n",
    "fig = px.choropleth_mapbox(df_dist, geojson=geojson, color=\"Cases Reported\",\n",
    "                    locations=\"District\", featureidkey=\"properties.NAME_2\",\n",
    "                    hover_name='District',\n",
    "                    center={\"lat\": 20.5937, \"lon\": 78.9629},\n",
    "                    mapbox_style=\"carto-positron\",\n",
    "                    zoom=2.75,\n",
    "                    color_continuous_scale=px.colors.qualitative.Vivid,\n",
    "                    title='Total Cases per District'\n",
    "                   )\n",
    "fig.update_geos(fitbounds=\"locations\", visible=True)\n",
    "fig.update_geos(projection_type=\"orthographic\")\n",
    "fig = make_538(fig,title='Total Cases per District')\n",
    "fig.show()\n"
   ]
  },
  {
   "cell_type": "markdown",
   "metadata": {},
   "source": [
    "The following plot shows statistics of zones being observed in each state differentiating as red, orange and green zone. Red zone shows maximum number of people being infected, orange zone being moderately affected while green zone being the least infected cases."
   ]
  },
  {
   "cell_type": "code",
   "execution_count": null,
   "metadata": {
    "_kg_hide-input": true,
    "execution": {
     "iopub.execute_input": "2020-09-10T13:07:27.563161Z",
     "iopub.status.busy": "2020-09-10T13:07:27.562405Z",
     "iopub.status.idle": "2020-09-10T13:07:27.668202Z",
     "shell.execute_reply": "2020-09-10T13:07:27.668724Z"
    },
    "papermill": {
     "duration": 0.708793,
     "end_time": "2020-09-10T13:07:27.668908",
     "exception": false,
     "start_time": "2020-09-10T13:07:26.960115",
     "status": "completed"
    },
    "tags": []
   },
   "outputs": [],
   "source": [
    "# Importing the dataset containing district level data showing number of zones\n",
    "df_zone = pd.read_csv('dataset/India-District-Zones.csv')\n",
    "\n",
    "'''Sorting the districts in each state according to the zones assigned as red, orange \n",
    "  and green zone according to the number of cases observed'''\n",
    "\n",
    "df_zone = df_zone.groupby(['State','Zone'],as_index=False)['District'].count()\n",
    "df_zone.sort_values('District',inplace=True)\n",
    "\n",
    "fig = go.Figure()\n",
    "df_g = df_zone[df_zone['Zone']=='Green Zone']\n",
    "fig.add_trace(go.Bar(name='Green zone',x=df_g['State'],y=df_g['District'], marker_color='Green'))\n",
    "df_o = df_zone[df_zone['Zone']=='Orange Zone']\n",
    "fig.add_trace(go.Bar(name='Orange zone',x=df_o['State'],y=df_o['District'], marker_color='Orange'))\n",
    "df_r = df_zone[df_zone['Zone']=='Red Zone']\n",
    "fig.add_trace(go.Bar(name='Red zone',x=df_r['State'],y=df_r['District'], marker_color='Red'))\n",
    "\n",
    "fig.update_layout(title='<b>Number of Zones per State from 4th May</b><br>Specific to Lockdown 3.0',\n",
    "                  legend=legend, barmode='stack')\n",
    "fig.show()"
   ]
  },
  {
   "cell_type": "markdown",
   "metadata": {
    "papermill": {
     "duration": 0.583847,
     "end_time": "2020-09-10T13:07:28.851375",
     "exception": false,
     "start_time": "2020-09-10T13:07:28.267528",
     "status": "completed"
    },
    "tags": []
   },
   "source": [
    "###  3. Is healthcare in India good enough to handle this situation on large scale?\n",
    "In this section, we will take a look at healthcare facilities in India and its states during Covid-19. For this I have refered to data on number of hospital beds in each state present in HospitalBedsIndia.csv file taken from https://pib.gov.in/PressReleasePage.aspx?PRID=1539877 and number of COVID-19 tests at daily level present in ICMRTestingDetails.csv file."
   ]
  },
  {
   "cell_type": "code",
   "execution_count": null,
   "metadata": {
    "_kg_hide-input": true,
    "execution": {
     "iopub.execute_input": "2020-09-10T13:07:29.993669Z",
     "iopub.status.busy": "2020-09-10T13:07:29.992904Z",
     "iopub.status.idle": "2020-09-10T13:07:30.091560Z",
     "shell.execute_reply": "2020-09-10T13:07:30.092180Z"
    },
    "papermill": {
     "duration": 0.671166,
     "end_time": "2020-09-10T13:07:30.092331",
     "exception": false,
     "start_time": "2020-09-10T13:07:29.421165",
     "status": "completed"
    },
    "tags": []
   },
   "outputs": [],
   "source": [
    "# Importing dataset containing Testing labs in India\n",
    "df_lab = pd.read_csv('dataset/ICMRTestingLabsWithCoords.csv')\n",
    "\n",
    "# Plotting testing labs on the map of India\n",
    "fig = px.scatter_mapbox(df_lab,\n",
    "                        lat=\"latitude\",\n",
    "                        lon=\"longitude\",\n",
    "                        mapbox_style='streets',\n",
    "                        hover_name='lab',\n",
    "                        hover_data=['city','state','pincode'],\n",
    "                        zoom=2.5,\n",
    "                        size_max=15,\n",
    "                        title= 'COVID19 Testing Labs in India')\n",
    "fig.show()"
   ]
  },
  {
   "cell_type": "code",
   "execution_count": null,
   "metadata": {
    "_kg_hide-input": true,
    "execution": {
     "iopub.execute_input": "2020-09-10T13:07:31.282435Z",
     "iopub.status.busy": "2020-09-10T13:07:31.281682Z",
     "iopub.status.idle": "2020-09-10T13:07:31.940396Z",
     "shell.execute_reply": "2020-09-10T13:07:31.940919Z"
    },
    "papermill": {
     "duration": 1.283738,
     "end_time": "2020-09-10T13:07:31.941085",
     "exception": false,
     "start_time": "2020-09-10T13:07:30.657347",
     "status": "completed"
    },
    "tags": []
   },
   "outputs": [],
   "source": [
    "def add_text(ax,fontsize=12):\n",
    "    '''Showcasing the number of Covid-19 testing labs per state/union teritorry'''\n",
    "    for p in ax.patches:\n",
    "        x=p.get_bbox().get_points()[:,0]\n",
    "        y=p.get_bbox().get_points()[1,1]\n",
    "        ax.annotate('{}'.format(int(y)), (x.mean(), y), ha='center', va='bottom',size=fontsize)\n",
    "        \n",
    "plt.figure(figsize=(16,6))\n",
    "ax = sns.countplot(data=df_lab,x='state',color='salmon',order = df_lab['state'].value_counts().index)\n",
    "add_text(ax)\n",
    "ax.set_xticklabels(ax.get_xticklabels(), rotation=45, ha=\"right\",size=12)\n",
    "ax.set_xlabel('')\n",
    "ax.set_ylabel('')\n",
    "ax.set_title('Number of COVID-19 testing labs per State/Union Territory')\n",
    "plt.tight_layout()\n",
    "plt.show()"
   ]
  },
  {
   "cell_type": "code",
   "execution_count": null,
   "metadata": {
    "_kg_hide-input": true,
    "execution": {
     "iopub.execute_input": "2020-09-10T13:07:33.452905Z",
     "iopub.status.busy": "2020-09-10T13:07:33.452180Z",
     "iopub.status.idle": "2020-09-10T13:07:33.617421Z",
     "shell.execute_reply": "2020-09-10T13:07:33.617980Z"
    },
    "papermill": {
     "duration": 0.793069,
     "end_time": "2020-09-10T13:07:33.618124",
     "exception": false,
     "start_time": "2020-09-10T13:07:32.825055",
     "status": "completed"
    },
    "tags": []
   },
   "outputs": [],
   "source": [
    "# Importing the test details conducted in each state\n",
    "df_tes_st = pd.read_csv('dataset/StatewiseTestingDetails.csv')\n",
    "fig = go.Figure()\n",
    "for state in df_tes_st.State.unique():\n",
    "    '''Counting number of tests conducted in each state'''\n",
    "    df_s = df_tes_st[df_tes_st['State']==state]\n",
    "    fig.add_trace(go.Scatter(x=df_s['Date'],y=df_s['TotalSamples'],mode='lines',name=state))\n",
    "    #fig.add_trace(go.Bar(x=df_s['Date'],y=df_s['Positive']))\n",
    "    \n",
    "fig.update_layout(template='plotly_white',title='State-wise number of tests',\n",
    "                  xaxis=dict(range=[df_tes_st.Date.min(),df.date.max()]))\n",
    "fig.show()"
   ]
  },
  {
   "cell_type": "markdown",
   "metadata": {
    "papermill": {
     "duration": 0.593052,
     "end_time": "2020-09-10T13:07:34.821506",
     "exception": false,
     "start_time": "2020-09-10T13:07:34.228454",
     "status": "completed"
    },
    "tags": []
   },
   "source": [
    "###  Statewise Analysis\n",
    "In this section, we will analyse the data for each state and study the effect of Covid-19.  "
   ]
  },
  {
   "cell_type": "code",
   "execution_count": null,
   "metadata": {
    "_kg_hide-input": true,
    "execution": {
     "iopub.execute_input": "2020-09-10T13:07:35.972204Z",
     "iopub.status.busy": "2020-09-10T13:07:35.971175Z",
     "iopub.status.idle": "2020-09-10T13:07:36.032819Z",
     "shell.execute_reply": "2020-09-10T13:07:36.032064Z"
    },
    "papermill": {
     "duration": 0.639654,
     "end_time": "2020-09-10T13:07:36.032969",
     "exception": false,
     "start_time": "2020-09-10T13:07:35.393315",
     "status": "completed"
    },
    "tags": []
   },
   "outputs": [],
   "source": [
    "# Getting the datasets containing details on population in India, number of hosptital beds in India, \n",
    "# testing details in each state to study overall statistical analysis\n",
    "\n",
    "df_pop = pd.read_csv('dataset/population_india_census2011.csv')\n",
    "df_bed = pd.read_csv('dataset/HospitalBedsIndia.csv')\n",
    "df_test = pd.read_csv('dataset/StatewiseTestingDetails.csv',parse_dates=True)\n",
    "df_bed['Total beds'] = df_bed.NumPublicBeds_HMIS + df_bed.NumRuralBeds_NHP18 + df_bed.NumUrbanBeds_NHP18"
   ]
  },
  {
   "cell_type": "code",
   "execution_count": null,
   "metadata": {},
   "outputs": [],
   "source": [
    "# Fetching the deatils as per latest date\n",
    "df_latest = df[df['date']==df.date.max()]\n",
    "\n",
    "# Merging the data of states and union territories to dataset df_pop and df_bed\n",
    "df_latest = df_latest.merge(df_pop,how='left',left_on='state',right_on='State / Union Territory')\n",
    "df_latest = df_latest.merge(df_bed,how='left',left_on='state',right_on='State/UT')\n",
    "\n",
    "\n",
    "# Fetching the necessary parameters such as state, cured, deaths, confirmed, population, rurel population, \n",
    "# area, density, gender ratio, total beds and total public health facilities required to study the curent scenario in India\n",
    "\n",
    "df_latest = df_latest[['state','Cured','Deaths','Confirmed','Population','Rural population',\n",
    "                       'Area','Density','Gender Ratio','Total beds','TotalPublicHealthFacilities_HMIS']]\n",
    "df_latest = df_latest[df_latest['state']!='Cases being reassigned to states']\n",
    "df_latest.head()\n",
    "\n",
    "# Dropping rows(states) with missing values i.e. rows 0-Andaman and Nicobar Islands, 7-Dadra and Nagar Haveli and Daman and Diu,\n",
    "# 13-Jammu and Kashmir, 17-Ladakh, 30-Telengana\n",
    "df_latest.drop([0,7,13,17,30],inplace=True)\n",
    "\n",
    "df_latest"
   ]
  },
  {
   "cell_type": "code",
   "execution_count": null,
   "metadata": {
    "_kg_hide-input": true,
    "execution": {
     "iopub.execute_input": "2020-09-10T13:07:37.437990Z",
     "iopub.status.busy": "2020-09-10T13:07:37.437059Z",
     "iopub.status.idle": "2020-09-10T13:07:37.441146Z",
     "shell.execute_reply": "2020-09-10T13:07:37.440613Z"
    },
    "papermill": {
     "duration": 0.836566,
     "end_time": "2020-09-10T13:07:37.441277",
     "exception": false,
     "start_time": "2020-09-10T13:07:36.604711",
     "status": "completed"
    },
    "tags": []
   },
   "outputs": [],
   "source": [
    "# Writing a function to get missing values\n",
    "\n",
    "def get_area(s):\n",
    "    if pd.isnull(s):\n",
    "        return s\n",
    "    temp = re.findall(r'\\d+.?\\d+', s)\n",
    "    temp = [x.replace(',','') for x in temp]\n",
    "    res = list(map(int, temp))\n",
    "    return res\n",
    "\n",
    "def get_density(s):\n",
    "    if pd.isnull(s):\n",
    "        return s\n",
    "    temp = re.findall(r'\\d+[.\\.]?\\d+', s)\n",
    "    temp = [x.replace(',','') for x in temp]\n",
    "    res = list(map(float, temp))\n",
    "    return res"
   ]
  },
  {
   "cell_type": "markdown",
   "metadata": {},
   "source": [
    "The following table shows the number of Cured, Deaths, Confirmed, Mortality Rate in %, Recovery Rate in %, Cases/million, Beds/million, Health Facilities/100sq.km for each state."
   ]
  },
  {
   "cell_type": "code",
   "execution_count": null,
   "metadata": {
    "_kg_hide-input": true,
    "execution": {
     "iopub.execute_input": "2020-09-10T13:07:38.640707Z",
     "iopub.status.busy": "2020-09-10T13:07:38.639680Z",
     "iopub.status.idle": "2020-09-10T13:07:38.749388Z",
     "shell.execute_reply": "2020-09-10T13:07:38.749904Z"
    },
    "papermill": {
     "duration": 0.711861,
     "end_time": "2020-09-10T13:07:38.750049",
     "exception": false,
     "start_time": "2020-09-10T13:07:38.038188",
     "status": "completed"
    },
    "tags": []
   },
   "outputs": [],
   "source": [
    "# Using the function defined above to split combined column of area(in sq.km, sq. miles) and density(in sq.km, sq. miles) into\n",
    "# area(sq.km), area(sq.miles),density(sq.km), density(sq.miles) and adding them to df_latest dataset\n",
    "\n",
    "df_latest['Area(sq km)'] = df_latest.apply(lambda x:get_area(x['Area'])[0],axis=1)\n",
    "df_latest['Area(sq miles)'] = df_latest.apply(lambda x:get_area(x['Area'])[1],axis=1)\n",
    "df_latest['Density(sq km)'] = df_latest.apply(lambda x:get_density(x['Density'])[0],axis=1)\n",
    "df_latest['Density(sq miles)'] = df_latest.apply(lambda x:get_density(x['Density'])[1],axis=1)\n",
    "\n",
    "# Dropping combined column of area(in sq.km, sq. miles) and density(in sq.km, sq. miles)\n",
    "df_latest.drop(['Area','Density'],axis=1,inplace=True)\n",
    "df_latest.rename(columns={'state':'State'},inplace=True)\n",
    "\n",
    "# Calculating number cases/million population\n",
    "df_latest['Cases/million'] = round((df_latest.Confirmed/df_latest.Population)*1000000).astype(int)\n",
    "df_latest.fillna(0,inplace=True)\n",
    "\n",
    "# Number of beds/million\n",
    "df_latest['Beds/million'] = round((df_latest['Total beds']/df_latest.Population)*1000000).astype(int)\n",
    "\n",
    "# Health facilities/100 sq.km area\n",
    "df_latest['Health Facilities/100sq.km'] = round((df_latest['TotalPublicHealthFacilities_HMIS']/df_latest['Area(sq km)'])\n",
    "                                                *1000).astype(int)\n",
    "\n",
    "# Mortality rate in percentage\n",
    "df_latest['Mortality Rate %'] = np.round((df_latest.Deaths/df_latest.Confirmed)*100,2)\n",
    "\n",
    "# Recovery rate in percentage\n",
    "df_latest['Recovery Rate %'] = np.round((df_latest.Cured/df_latest.Confirmed)*100,2)\n",
    "\n",
    "# Arranging table according to number of confirmed cases\n",
    "df_latest.sort_values('Confirmed',ascending=False,inplace=True)\n",
    "df_latest.reset_index(inplace=True,drop=True)\n",
    "df_table = df_latest[['State','Cured','Deaths','Confirmed','Mortality Rate %','Recovery Rate %',\n",
    "                      'Cases/million','Beds/million','Health Facilities/100sq.km']]\n",
    "(df_table.style\n",
    " .background_gradient(cmap='Blues',subset=['Confirmed','Cases/million','Beds/million','Health Facilities/100sq.km'])\n",
    " .background_gradient(cmap='Greens', subset=['Cured','Recovery Rate %'])\n",
    " .background_gradient(cmap='Reds', subset=['Deaths','Mortality Rate %'])\n",
    " .set_caption('<b>COVID19: Statistics about India')\n",
    " .set_table_styles(styles))"
   ]
  },
  {
   "cell_type": "markdown",
   "metadata": {
    "papermill": {
     "duration": 0.570569,
     "end_time": "2020-09-10T13:07:39.901827",
     "exception": false,
     "start_time": "2020-09-10T13:07:39.331258",
     "status": "completed"
    },
    "tags": []
   },
   "source": [
    "### 4. Does population density has anything to do with spread of this disease?\n",
    "To study whether population density has any effect on spread of Covid-19, I’ll be using a scatter plot with total cases, deaths or recoveries on the X-axis, population density on the Y-axis and population representing the size of the bubble."
   ]
  },
  {
   "cell_type": "code",
   "execution_count": null,
   "metadata": {
    "_kg_hide-input": true,
    "execution": {
     "iopub.execute_input": "2020-09-10T13:07:41.049790Z",
     "iopub.status.busy": "2020-09-10T13:07:41.048769Z",
     "iopub.status.idle": "2020-09-10T13:07:41.726625Z",
     "shell.execute_reply": "2020-09-10T13:07:41.727160Z"
    },
    "papermill": {
     "duration": 1.256203,
     "end_time": "2020-09-10T13:07:41.727309",
     "exception": false,
     "start_time": "2020-09-10T13:07:40.471106",
     "status": "completed"
    },
    "tags": []
   },
   "outputs": [],
   "source": [
    "# Studying the effect of population density on spread of Covid-19\n",
    "rows = 1\n",
    "cols = 3\n",
    "fig = make_subplots(rows=rows,cols=cols,shared_yaxes=True,horizontal_spacing=0.03,\n",
    "                    subplot_titles=['Cases','Deaths','Recoveries'])\n",
    "d_cols = {1:'Confirmed',2:'Deaths',3:'Cured'}\n",
    "colors = plotly.colors.DEFAULT_PLOTLY_COLORS\n",
    "for c in range(1,4):\n",
    "    for i,state in enumerate(df_latest.State.unique().tolist()):\n",
    "        '''Getting population and density details to calculate population density for confirmed cases, deaths and recoveries.'''\n",
    "        group = df_latest[df_latest['State']==state]\n",
    "        fig.append_trace(go.Scatter(\n",
    "            name = state,\n",
    "            x = group[d_cols[c]],\n",
    "            y = group['Density(sq km)'],\n",
    "            mode = 'markers',\n",
    "            marker = dict(\n",
    "                color = colors[i%len(colors)],\n",
    "                size = group['Population']/(5*10**6)\n",
    "            ),\n",
    "            legendgroup = state,\n",
    "            showlegend = True if c==1 else False,\n",
    "            text= '<b>'+state.upper()+'</b><br>'+\n",
    "                  '<b>Population: </b>'+ group['Population'].astype(str) +'<br>'+\n",
    "                  '<b>'+d_cols[c]+': </b>'+ group[d_cols[c]].astype(str) +'<br>'+\n",
    "                  '<b>Pop. Density: </b>'+ group['Density(sq km)'].astype(str) +'<br>',\n",
    "            hoverinfo = 'text',\n",
    "        ),1,c)\n",
    "        fig.update_xaxes(tickfont=dict(size=8),row=1,col=c)\n",
    "fig.update_yaxes(title_text='Population Density(per sq km)',row=1,col=1)\n",
    "fig.update_layout(width=700,height=400,title=\"States' Population Density Analysis\",\n",
    "                 margin=dict(t=70,b=0,r=10,l=0), \n",
    "                 legend=dict(title='State/Union Territory',font=dict(size=8))) \n",
    "fig.show()"
   ]
  },
  {
   "cell_type": "code",
   "execution_count": null,
   "metadata": {
    "_kg_hide-input": true,
    "execution": {
     "iopub.execute_input": "2020-09-10T13:07:46.124115Z",
     "iopub.status.busy": "2020-09-10T13:07:46.123324Z",
     "iopub.status.idle": "2020-09-10T13:07:51.855415Z",
     "shell.execute_reply": "2020-09-10T13:07:51.854647Z"
    },
    "papermill": {
     "duration": 6.328152,
     "end_time": "2020-09-10T13:07:51.855534",
     "exception": false,
     "start_time": "2020-09-10T13:07:45.527382",
     "status": "completed"
    },
    "tags": []
   },
   "outputs": [],
   "source": [
    "df_states = df.copy()\n",
    "def add_days(df,new_col,basis):\n",
    "    '''Studying the cumulative trend since the day it was first reported'''\n",
    "    states = {}\n",
    "    df[new_col] = 0\n",
    "    for i in range(len(df_states)):\n",
    "        if df_states.loc[i,'state'] in states:\n",
    "            df_states.loc[i,new_col] = (df_states.loc[i,'date'] - states[df_states.loc[i,'state']]).days\n",
    "        else:\n",
    "            if df_states.loc[i,basis] > 0:\n",
    "                states[df_states.loc[i,'state']] = df_states.loc[i,'date']\n",
    "    return df\n",
    "df_states = add_days(df_states,'day_since_inf','Confirmed')\n",
    "df_states = add_days(df_states,'day_since_death','Deaths')\n",
    "df_states = add_days(df_states,'day_since_cure','Cured')"
   ]
  },
  {
   "cell_type": "markdown",
   "metadata": {},
   "source": [
    "The following plot shows the impact of population density (per km square) on the total confirmed cases, deaths and recoveries plotted using scatter plot."
   ]
  },
  {
   "cell_type": "code",
   "execution_count": null,
   "metadata": {
    "_kg_hide-input": true,
    "execution": {
     "iopub.execute_input": "2020-09-10T13:07:53.076462Z",
     "iopub.status.busy": "2020-09-10T13:07:53.064281Z",
     "iopub.status.idle": "2020-09-10T13:07:54.220683Z",
     "shell.execute_reply": "2020-09-10T13:07:54.221498Z"
    },
    "papermill": {
     "duration": 1.760793,
     "end_time": "2020-09-10T13:07:54.221715",
     "exception": false,
     "start_time": "2020-09-10T13:07:52.460922",
     "status": "completed"
    },
    "tags": []
   },
   "outputs": [],
   "source": [
    "rows = 1\n",
    "cols = 3\n",
    "fig = make_subplots(rows=rows,cols=cols,\n",
    "                    subplot_titles=['Cases','Deaths','Recoveries'])\n",
    "d_cols = {1:'Confirmed',2:'Deaths',3:'Cured'}\n",
    "colors = plotly.colors.DEFAULT_PLOTLY_COLORS\n",
    "for c in range(1,4):\n",
    "    for i,state in enumerate(df_states.state.unique().tolist()):\n",
    "        group = df_states[df_states['state']==state]\n",
    "        fig.append_trace(go.Scatter(\n",
    "            name = state,\n",
    "            y = group[d_cols[c]],\n",
    "            x = group['day_since_inf'],\n",
    "            mode = 'lines',\n",
    "            line = dict(\n",
    "                color = colors[i%len(colors)],\n",
    "            ),\n",
    "            legendgroup = state,\n",
    "            showlegend = True if c==1 else False,\n",
    "            text= '<b>'+state.upper()+'</b><br>'+\n",
    "                   '<b>Day: </b>'+ group['day_since_inf'].astype(str) +'<br>'+\n",
    "                   '<b>'+d_cols[c]+': </b>'+ group[d_cols[c]].astype(str) +'<br>',\n",
    "            hoverinfo = 'text',\n",
    "        ),1,c)\n",
    "        fig.update_xaxes(tickfont=dict(size=8),row=1,col=c)\n",
    "        fig.update_yaxes(tickfont=dict(size=8),row=1,col=c)\n",
    "fig.update_yaxes(title_text='Confirmed Numbers',row=1,col=1)\n",
    "fig.update_xaxes(title_text='Days since first infection was reported',row=1,col=2)\n",
    "fig.update_layout(width=700,height=400,\n",
    "                title=\"<b>States' Trend Analysis</b><br>Cumulative Statistics over time\",\n",
    "                 margin=dict(t=100,b=0,r=10,l=0), \n",
    "                 legend=dict(title='State/Union Territory',font=dict(size=8))) \n",
    "fig.show()"
   ]
  },
  {
   "cell_type": "markdown",
   "metadata": {
    "papermill": {
     "duration": 0.625528,
     "end_time": "2020-09-10T13:07:55.496524",
     "exception": false,
     "start_time": "2020-09-10T13:07:54.870996",
     "status": "completed"
    },
    "tags": []
   },
   "source": [
    "In the below three plots, I'm plotting the 7-day rolling mean of daily cases, deaths and recoveries reported against the day it's first instance was reported."
   ]
  },
  {
   "cell_type": "code",
   "execution_count": null,
   "metadata": {
    "_kg_hide-input": true,
    "execution": {
     "iopub.execute_input": "2020-09-10T13:07:56.753673Z",
     "iopub.status.busy": "2020-09-10T13:07:56.752984Z",
     "iopub.status.idle": "2020-09-10T13:08:02.745290Z",
     "shell.execute_reply": "2020-09-10T13:08:02.744242Z"
    },
    "papermill": {
     "duration": 6.624844,
     "end_time": "2020-09-10T13:08:02.745412",
     "exception": false,
     "start_time": "2020-09-10T13:07:56.120568",
     "status": "completed"
    },
    "tags": []
   },
   "outputs": [],
   "source": [
    "# Getting details of each state on daily basis to study the cumulative trend for 7-day rolling\n",
    "df_states.sort_values(by=['state','date'],inplace=True)\n",
    "df_states.reset_index(inplace=True,drop=True)\n",
    "df_states_daily = add_daily_measures(df_states)\n",
    "df_states_daily.fillna(0,inplace=True)"
   ]
  },
  {
   "cell_type": "code",
   "execution_count": null,
   "metadata": {
    "_kg_hide-input": true,
    "execution": {
     "iopub.execute_input": "2020-09-10T13:08:03.989081Z",
     "iopub.status.busy": "2020-09-10T13:08:03.987675Z",
     "iopub.status.idle": "2020-09-10T13:08:04.277739Z",
     "shell.execute_reply": "2020-09-10T13:08:04.278283Z"
    },
    "papermill": {
     "duration": 0.918259,
     "end_time": "2020-09-10T13:08:04.278469",
     "exception": false,
     "start_time": "2020-09-10T13:08:03.360210",
     "status": "completed"
    },
    "tags": []
   },
   "outputs": [],
   "source": [
    "states = df_states_daily['state'].unique().tolist()\n",
    "df_roll = pd.DataFrame()\n",
    "for state in states:\n",
    "    '''Collecting data to plot 7-day rolling mean of daily cases, deaths and recoveries reported \n",
    "    against the day it's first instance was reported'''\n",
    "    \n",
    "    df_state = df_states_daily[df_states_daily['state']==state]\n",
    "    '''Calculating avarage to plot 7-day rolling'''\n",
    "    df_state['roll_avg_c'] = np.round(df_state['Daily Cases'].rolling(7).mean())\n",
    "    df_state['roll_avg_d'] = np.round(df_state['Daily Deaths'].rolling(7).mean())\n",
    "    df_state['roll_avg_r'] = np.round(df_state['Daily Cured'].rolling(7).mean())\n",
    "    df_roll = df_roll.append(df_state,ignore_index=True)"
   ]
  },
  {
   "cell_type": "code",
   "execution_count": null,
   "metadata": {
    "_kg_hide-input": true,
    "execution": {
     "iopub.execute_input": "2020-09-10T13:08:05.557332Z",
     "iopub.status.busy": "2020-09-10T13:08:05.556213Z",
     "iopub.status.idle": "2020-09-10T13:08:06.713242Z",
     "shell.execute_reply": "2020-09-10T13:08:06.713844Z"
    },
    "papermill": {
     "duration": 1.827615,
     "end_time": "2020-09-10T13:08:06.714026",
     "exception": false,
     "start_time": "2020-09-10T13:08:04.886411",
     "status": "completed"
    },
    "tags": []
   },
   "outputs": [],
   "source": [
    "rows = 1\n",
    "cols = 3\n",
    "fig = make_subplots(rows=rows,cols=cols,\n",
    "                    subplot_titles=['Cases','Deaths','Recoveries'])\n",
    "d_cols = {1:'roll_avg_c',2:'roll_avg_d',3:'roll_avg_c'}\n",
    "colors = plotly.colors.DEFAULT_PLOTLY_COLORS\n",
    "for c in range(1,4):\n",
    "    for i,state in enumerate(df_roll.state.unique().tolist()):\n",
    "        '''Fetching details of confirmed cases, deaths and recoveries calculated in the above cell to make a plot'''\n",
    "        group = df_roll[df_roll['state']==state]\n",
    "        fig.append_trace(go.Scatter(\n",
    "            name = state,\n",
    "            y = group[d_cols[c]],\n",
    "            x = group['day_since_inf'],\n",
    "            mode = 'lines',\n",
    "            line = dict(\n",
    "                color = colors[i%len(colors)],\n",
    "            ),\n",
    "            legendgroup = state,\n",
    "            showlegend = True if c==1 else False,\n",
    "            text= '<b>'+state.upper()+'</b><br>'+\n",
    "                   '<b>Day: </b>'+ group['day_since_inf'].astype(str) +'<br>'+\n",
    "                   '<b>'+d_cols[c]+': </b>'+ group[d_cols[c]].astype(str) +'<br>',\n",
    "            hoverinfo = 'text',\n",
    "        ),1,c)\n",
    "        fig.update_xaxes(tickfont=dict(size=8),row=1,col=c)\n",
    "        fig.update_yaxes(tickfont=dict(size=8),row=1,col=c)\n",
    "fig.update_yaxes(title_text='Confirmed Numbers(7-Day Rolling average)',\n",
    "                 title_font_size=10,row=1,col=1)\n",
    "fig.update_xaxes(title_text='Days since first infection was reported',row=1,col=2)\n",
    "fig.update_layout(width=700,height=400,\n",
    "                title=\"<b>States' Trend Analysis</b><br>7-Day Rolling average Statistics\",\n",
    "                 margin=dict(t=100,b=0,r=10,l=0), \n",
    "                 legend=dict(title='State/Union Territory',font=dict(size=8))) \n",
    "fig.show()"
   ]
  },
  {
   "cell_type": "markdown",
   "metadata": {},
   "source": [
    "### Top 5 worst affected states\n",
    "In this section, we will take a look at the top 5 worst affected states in India. I have plotted daily cases, deaths and recoveries along with their rolling average go get a sense of the trend: increasing or decreasing."
   ]
  },
  {
   "cell_type": "code",
   "execution_count": null,
   "metadata": {},
   "outputs": [],
   "source": [
    "n = 5\n",
    "df_curr = df_states[df_states['date']==df_states.date.max()]\n",
    "states = df_curr.nlargest(n,'Confirmed')['state'].values.tolist()"
   ]
  },
  {
   "cell_type": "code",
   "execution_count": null,
   "metadata": {},
   "outputs": [],
   "source": [
    "def plot_state(state=state):\n",
    "    '''Geeting the top worst affected states according the avarage value calculated using 7-day rolling'''\n",
    "    df_state = df_states[df_states['state']==state]\n",
    "    df_state['roll_avg_c'] = df_state['Daily Cases'].rolling(7).mean()\n",
    "    df_state['roll_avg_d'] = df_state['Daily Deaths'].rolling(7).mean()\n",
    "    df_state['roll_avg_r'] = df_state['Daily Cured'].rolling(7).mean()\n",
    "    fig = go.Figure()\n",
    "    fig.add_trace(go.Bar(name='Cases',x=df_state['date'],y=df_state['Daily Cases'],marker_color='royalblue',yaxis='y'))\n",
    "    fig.add_trace(go.Scatter(name='7-day rolling avg',x=df_state['date'],y=df_state['roll_avg_c'],marker_color='black',yaxis='y'))\n",
    "    fig.add_trace(go.Bar(name='Deaths',x=df_state['date'],y=df_state['Daily Deaths'],marker_color='crimson',yaxis='y2'))\n",
    "    fig.add_trace(go.Scatter(name='7-day rolling avg',x=df_state['date'],y=df_state['roll_avg_d'],marker_color='black',yaxis='y2'))\n",
    "    fig.add_trace(go.Bar(name='Recoveries',x=df_state['date'],y=df_state['Daily Cured'],marker_color='limegreen',yaxis='y3'))\n",
    "    fig.add_trace(go.Scatter(name='7-day rolling avg',x=df_state['date'],y=df_state['roll_avg_r'],marker_color='black',yaxis='y3'))\n",
    "    # Update axes\n",
    "    fig.update_layout(\n",
    "        xaxis=dict(\n",
    "        autorange=True,\n",
    "        rangeslider=dict(\n",
    "            autorange=True,\n",
    "        ),\n",
    "        type=\"date\"\n",
    "    ),\n",
    "    yaxis=dict(\n",
    "        anchor=\"x\",\n",
    "        autorange=True,\n",
    "        domain=[0, 0.3],\n",
    "        linecolor=\"royalblue\",\n",
    "        mirror=True,\n",
    "        showline=True,\n",
    "        side=\"right\",\n",
    "        tickfont={\"color\": \"royalblue\"},\n",
    "        tickmode=\"auto\",\n",
    "        ticks=\"\",\n",
    "        title='Cases',\n",
    "        titlefont={\"color\": \"royalblue\",\"size\":10},\n",
    "        type=\"linear\",\n",
    "        zeroline=False\n",
    "    ),\n",
    "    yaxis2=dict(\n",
    "        anchor=\"x\",\n",
    "        autorange=True,\n",
    "        domain=[0.35, 0.65],\n",
    "        linecolor=\"crimson\",\n",
    "        mirror=True,\n",
    "        showline=True,\n",
    "        side=\"right\",\n",
    "        tickfont={\"color\": \"crimson\"},\n",
    "        tickmode=\"auto\",\n",
    "        ticks=\"\",\n",
    "        title = 'Deaths',\n",
    "        titlefont={\"color\": \"crimson\",\"size\":10},\n",
    "        type=\"linear\",\n",
    "        zeroline=False\n",
    "    ),\n",
    "    yaxis3=dict(\n",
    "        anchor=\"x\",\n",
    "        autorange=True,\n",
    "        domain=[0.7, 1],\n",
    "        linecolor=\"limegreen\",\n",
    "        mirror=True,\n",
    "        showline=True,\n",
    "        side=\"right\",\n",
    "        tickfont={\"color\": \"limegreen\"},\n",
    "        tickmode=\"auto\",\n",
    "        ticks=\"\",\n",
    "        title=\"Recoveries\",\n",
    "        titlefont={\"color\": \"limegreen\",\"size\":10},\n",
    "        type=\"linear\",\n",
    "        zeroline=False\n",
    "    )\n",
    "    )\n",
    "    fig.update_layout(title=state,showlegend=False,template='plotly_white')\n",
    "    fig.show()\n"
   ]
  },
  {
   "cell_type": "markdown",
   "metadata": {},
   "source": [
    "The following plot shows the worst affected state in India due to Covid-19 while the rest show lesser affected ones showing the worst affected top five staes."
   ]
  },
  {
   "cell_type": "code",
   "execution_count": null,
   "metadata": {},
   "outputs": [],
   "source": [
    "plot_state(states[0])"
   ]
  },
  {
   "cell_type": "code",
   "execution_count": null,
   "metadata": {},
   "outputs": [],
   "source": [
    "plot_state(states[1])"
   ]
  },
  {
   "cell_type": "code",
   "execution_count": null,
   "metadata": {},
   "outputs": [],
   "source": [
    "plot_state(states[2])"
   ]
  },
  {
   "cell_type": "code",
   "execution_count": null,
   "metadata": {},
   "outputs": [],
   "source": [
    "plot_state(states[3])"
   ]
  },
  {
   "cell_type": "code",
   "execution_count": null,
   "metadata": {},
   "outputs": [],
   "source": [
    "plot_state(states[5])"
   ]
  }
 ],
 "metadata": {
  "kernelspec": {
   "display_name": "Python 3",
   "language": "python",
   "name": "python3"
  },
  "language_info": {
   "codemirror_mode": {
    "name": "ipython",
    "version": 3
   },
   "file_extension": ".py",
   "mimetype": "text/x-python",
   "name": "python",
   "nbconvert_exporter": "python",
   "pygments_lexer": "ipython3",
   "version": "3.7.4"
  },
  "papermill": {
   "duration": 196.443058,
   "end_time": "2020-09-10T13:09:00.982682",
   "environment_variables": {},
   "exception": null,
   "input_path": "__notebook__.ipynb",
   "output_path": "__notebook__.ipynb",
   "parameters": {},
   "start_time": "2020-09-10T13:05:44.539624",
   "version": "2.1.0"
  }
 },
 "nbformat": 4,
 "nbformat_minor": 4
}
